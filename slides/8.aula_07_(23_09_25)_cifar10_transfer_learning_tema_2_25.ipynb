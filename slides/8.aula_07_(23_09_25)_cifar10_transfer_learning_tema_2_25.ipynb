{
  "cells": [
    {
      "cell_type": "markdown",
      "source": [
        "<left><img src=\"https://i.ibb.co/zWjkHsWJ/marca-final-rgb-campanha-2025-versao02.png\" width=\"35%\" height=\"35%\"></left>"
      ],
      "metadata": {
        "id": "14GnftYN-rcw"
      },
      "id": "14GnftYN-rcw"
    },
    {
      "cell_type": "markdown",
      "source": [
        "# Tópicos em Matemática Aplicada: Deep Learning (Aula 07)\n",
        "\n",
        "**Exemplo 2: Transfer Learning + Fine Tunning**\n",
        "\n",
        "Data: 23/set/25\n"
      ],
      "metadata": {
        "id": "3eqnzoTX-w87"
      },
      "id": "3eqnzoTX-w87"
    },
    {
      "cell_type": "markdown",
      "source": [
        "---\n",
        "\n",
        "# Importando o que importa e escolha da GPU"
      ],
      "metadata": {
        "id": "ymN9D16yVXFv"
      },
      "id": "ymN9D16yVXFv"
    },
    {
      "cell_type": "code",
      "execution_count": null,
      "id": "3076206c",
      "metadata": {
        "colab": {
          "base_uri": "https://localhost:8080/"
        },
        "id": "3076206c",
        "outputId": "9ab367bb-ae2a-4487-eb8a-67f3956a432d"
      },
      "outputs": [
        {
          "output_type": "stream",
          "name": "stdout",
          "text": [
            "🟢 CUDA (GPU) disponível! Usando: NVIDIA A100-SXM4-40GB\n"
          ]
        }
      ],
      "source": [
        "import torch                     # biblioteca principal de tensors e nn\n",
        "import torch.nn as nn            # módulos de rede neural\n",
        "import torch.optim as optim      # otimizadores (SGD, Adam, ...)\n",
        "from torch.utils.data import DataLoader, Subset\n",
        "import torchvision               # datasets, transformações e modelos pré‑treinados\n",
        "from torchvision import transforms, datasets, models\n",
        "\n",
        "import numpy as np\n",
        "import matplotlib.pyplot as plt\n",
        "from tqdm import tqdm           # barra de progresso bonita\n",
        "import os, sys, time\n",
        "\n",
        "# Detecta a GPU disponível\n",
        "if torch.cuda.is_available():\n",
        "    device = torch.device('cuda')\n",
        "    print(\"🟢 CUDA (GPU) disponível! Usando:\", torch.cuda.get_device_name(0))\n",
        "elif torch.backends.mps.is_available():\n",
        "    # MPS = Metal Performance Shaders (GPU do Apple Silicon)\n",
        "    device = torch.device('mps')\n",
        "    print(\"🟢 MPS (GPU do Mac) disponível! Usando GPU via Metal.\")\n",
        "else:\n",
        "    device = torch.device('cpu')\n",
        "    print(\"⚪️  Nenhuma GPU encontrada. Usando CPU (pode ser lento).\")"
      ]
    },
    {
      "cell_type": "markdown",
      "source": [
        "# Transformações de dados e carregamento do CIFAR-10"
      ],
      "metadata": {
        "id": "4x_2-h4QVj-4"
      },
      "id": "4x_2-h4QVj-4"
    },
    {
      "cell_type": "code",
      "execution_count": null,
      "id": "91b14418",
      "metadata": {
        "colab": {
          "base_uri": "https://localhost:8080/"
        },
        "id": "91b14418",
        "outputId": "d82120b0-fa2b-4cbf-f15e-2a84a922aa5f"
      },
      "outputs": [
        {
          "output_type": "stream",
          "name": "stderr",
          "text": [
            "100%|██████████| 170M/170M [00:31<00:00, 5.40MB/s]\n"
          ]
        },
        {
          "output_type": "stream",
          "name": "stdout",
          "text": [
            "Número de classes: 10 -> ['airplane', 'automobile', 'bird', 'cat', 'deer', 'dog', 'frog', 'horse', 'ship', 'truck']\n"
          ]
        }
      ],
      "source": [
        "# Transformações para o conjunto de treino: aumentação + normalização\n",
        "transform_train = transforms.Compose([\n",
        "    transforms.RandomHorizontalFlip(p=0.5),          # flip horizontal aleatório\n",
        "    transforms.RandomCrop(32, padding=4),            # crop aleatório com padding\n",
        "    transforms.ToTensor(),                           # converte para Tensor [0,1]\n",
        "    transforms.Normalize((0.4914, 0.4822, 0.4465),   # média e desvio das 3 canais (CIFAR-10)\n",
        "                         (0.2470, 0.2435, 0.2616)),  # esses valores são os que foram usados no IMAGENET\n",
        "])\n",
        "\n",
        "# Transformações para validação/teste: apenas normalização (sem aumentação)\n",
        "transform_val = transforms.Compose([\n",
        "    transforms.ToTensor(),\n",
        "    transforms.Normalize((0.4914, 0.4822, 0.4465),\n",
        "                         (0.2470, 0.2435, 0.2616)),\n",
        "])\n",
        "\n",
        "# Carrega o dataset CIFAR-10\n",
        "import tempfile\n",
        "data_dir = tempfile.mkdtemp()\n",
        "train_set = datasets.CIFAR10(root=data_dir,\n",
        "                             train=True,\n",
        "                             download=True,\n",
        "                             transform=transform_train)\n",
        "\n",
        "val_set = datasets.CIFAR10(root=data_dir,\n",
        "                           train=False,\n",
        "                           download=True,\n",
        "                           transform=transform_val)\n",
        "\n",
        "# Número de classes\n",
        "num_classes = len(train_set.classes)\n",
        "print(f\"Número de classes: {num_classes} -> {train_set.classes}\")\n",
        "\n",
        "# DataLoaders: iteram em batches, embaralham e paralelizam\n",
        "batch_size = 128   # pode ser ajustado de acordo com a memória da GPU/CPU\n",
        "train_loader = DataLoader(train_set, batch_size=batch_size, shuffle=True, num_workers=2, pin_memory=True)\n",
        "val_loader   = DataLoader(val_set,   batch_size=batch_size, shuffle=False, num_workers=2, pin_memory=True)"
      ]
    },
    {
      "cell_type": "markdown",
      "source": [
        "# Funções de Treinamento e avaliação"
      ],
      "metadata": {
        "id": "kimU_kBeV_3O"
      },
      "id": "kimU_kBeV_3O"
    },
    {
      "cell_type": "code",
      "execution_count": null,
      "id": "48a12887",
      "metadata": {
        "id": "48a12887"
      },
      "outputs": [],
      "source": [
        "\n",
        "def train_one_epoch(model, loader, criterion, optimizer, device):\n",
        "    \"\"\"\n",
        "    Treina o modelo por UMA época (passa por todo o loader).\n",
        "    Retorna a perda média e a acurácia (top-1) da época.\n",
        "    \"\"\"\n",
        "    model.train()                # coloca o modelo em modo training (BatchNorm, Dropout, etc.)\n",
        "    running_loss = 0.0\n",
        "    correct = 0\n",
        "    total = 0\n",
        "\n",
        "    # tqdm para barra de progresso\n",
        "    pbar = tqdm(enumerate(loader), total=len(loader), leave=False, desc='Train')\n",
        "    for batch_idx, (inputs, targets) in pbar:\n",
        "        inputs, targets = inputs.to(device), targets.to(device)  # move para GPU/CPU\n",
        "\n",
        "        optimizer.zero_grad()            # zera gradientes acumulados\n",
        "        outputs = model(inputs)          # forward pass\n",
        "        loss = criterion(outputs, targets)\n",
        "        loss.backward()                  # backward pass\n",
        "        optimizer.step()                 # atualização dos pesos\n",
        "\n",
        "        running_loss += loss.item() * inputs.size(0)\n",
        "\n",
        "        # ---- cálculo da acurácia ----\n",
        "        _, predicted = outputs.max(1)    # índice da classe com maior prob.\n",
        "        total   += targets.size(0)\n",
        "        correct += predicted.eq(targets).sum().item()\n",
        "\n",
        "        # atualiza a barra com loss e acc\n",
        "        pbar.set_postfix({'loss': running_loss/(batch_idx+1), 'acc': 100.*correct/total})\n",
        "\n",
        "    epoch_loss = running_loss / len(loader.dataset)\n",
        "    epoch_acc  = 100. * correct / total\n",
        "    return epoch_loss, epoch_acc\n",
        "\n",
        "\n",
        "def evaluate(model, loader, criterion, device):\n",
        "    \"\"\"\n",
        "    Avalia o modelo em um conjunto (val ou test) e devolve loss média e acurácia.\n",
        "    \"\"\"\n",
        "    model.eval()                 # modo eval (desliga dropout, batchnorm em modo inference)\n",
        "    running_loss = 0.0\n",
        "    correct = 0\n",
        "    total = 0\n",
        "\n",
        "    with torch.no_grad():        # não computa gradientes -> mais rápido e menos memória\n",
        "        pbar = tqdm(enumerate(loader), total=len(loader), leave=False, desc='Eval')\n",
        "        for batch_idx, (inputs, targets) in pbar:\n",
        "            inputs, targets = inputs.to(device), targets.to(device)\n",
        "\n",
        "            outputs = model(inputs)\n",
        "            loss = criterion(outputs, targets)\n",
        "            running_loss += loss.item() * inputs.size(0)\n",
        "\n",
        "            _, predicted = outputs.max(1)\n",
        "            total   += targets.size(0)\n",
        "            correct += predicted.eq(targets).sum().item()\n",
        "\n",
        "            pbar.set_postfix({'loss': running_loss/(batch_idx+1), 'acc': 100.*correct/total})\n",
        "\n",
        "    epoch_loss = running_loss / len(loader.dataset)\n",
        "    epoch_acc  = 100. * correct / total\n",
        "    return epoch_loss, epoch_acc"
      ]
    },
    {
      "cell_type": "markdown",
      "source": [
        "# Carrega um Modelo Pré-Treinado\n",
        "\n",
        "Vamos usar uma ResNet-18 como modelo Pré-Treinado, cuja forma pode ser vista abaixo.\n",
        "\n",
        "![](https://www.researchgate.net/publication/360470173/figure/fig5/AS:11431281211852519@1702495383312/Structure-of-the-ResNet-18-layer1d-a-The-basic-block-in-the-ResNet-18-layer-b-A.tif)\n",
        "\n",
        "Usaremos os pesos da **ImageNet**. Mas, o que é? **ImageNet** é um grande banco de dados de imagens anotadas, criado para pesquisa em visão computacional. Algumas características importantes:\n",
        "\n",
        "| Característica | Detalhes |\n",
        "|----------------|----------|\n",
        "| **Número de imagens** | Mais de 14 milhões de imagens (na sua versão completa). |\n",
        "| **Número de categorias** | Aproximadamente 20.000 rótulos (por exemplo, \"cachorro\", \"carro\", \"copo\", etc.). |\n",
        "| **Resolução** | Variável, mas tipicamente centenas de pixels em cada dimensão. |\n",
        "| **Organização** | As imagens são organizadas segundo a hierarquia da WordNet (um léxico da língua inglesa). |\n",
        "| **Desafio (ILSVRC)** | Desde 2010, a ImageNet Large Scale Visual Recognition Challenge (ILSVRC) usa um subconjunto de ~1,3 milhão de imagens em 1000 categorias para treinar e avaliar modelos. |\n",
        "\n",
        "---\n",
        "\n",
        "#### Transfer Learning vs. Fine Tuning\n",
        "\n",
        "| Estratégia | O que fazemos com os pesos da ImageNet? |\n",
        "|------------|------------------------------------------|\n",
        "| **Transfer Learning (congelamento)** | Mantemos a maioria dos pesos **fixos** (não são atualizados durante o treinamento) e só treinamos a camada final (ou algumas camadas novas) para a nova tarefa. |\n",
        "| **Fine Tuning** | Depois de treinar a camada final, **descongelamos** algumas camadas intermediárias (geralmente as mais altas) e continuamos o treinamento com um learning rate menor, permitindo que os pesos se ajustem ao novo domínio. |\n"
      ],
      "metadata": {
        "id": "n6OSIfNvWNwb"
      },
      "id": "n6OSIfNvWNwb"
    },
    {
      "cell_type": "code",
      "execution_count": null,
      "id": "2a2b8cc8",
      "metadata": {
        "colab": {
          "base_uri": "https://localhost:8080/"
        },
        "id": "2a2b8cc8",
        "outputId": "57d76218-b903-4b2d-b465-0d5d4e1b4ae3"
      },
      "outputs": [
        {
          "output_type": "stream",
          "name": "stdout",
          "text": [
            "Downloading: \"https://download.pytorch.org/models/resnet18-f37072fd.pth\" to /root/.cache/torch/hub/checkpoints/resnet18-f37072fd.pth\n"
          ]
        },
        {
          "output_type": "stream",
          "name": "stderr",
          "text": [
            "100%|██████████| 44.7M/44.7M [00:00<00:00, 244MB/s]\n"
          ]
        },
        {
          "output_type": "stream",
          "name": "stdout",
          "text": [
            "Parâmetros treináveis (apenas a nova camada): 5130\n"
          ]
        }
      ],
      "source": [
        "# Carrega o modelo pré-treinado (weights='IMAGENET1K_V1')\n",
        "model = models.resnet18(weights='IMAGENET1K_V1')\n",
        "\n",
        "# Congela todas as camadas (não queremos atualizar os pesos ainda)\n",
        "for name, param in model.named_parameters():\n",
        "    param.requires_grad = False     # gradientes não serão computados para esses parâmetros\n",
        "\n",
        "# Substitui o classificador final:\n",
        "# ResNet tem um atributo `fc` (fully connected) que normalmente tem 1000 saídas.\n",
        "# Vamos trocar por uma camada Linear que tem `num_classes` saídas.\n",
        "model.fc = nn.Linear(model.fc.in_features, num_classes)\n",
        "\n",
        "# Envia o modelo para a GPU escolhida\n",
        "model = model.to(device)\n",
        "\n",
        "# Verifica quantos parâmetros são treináveis (devem ser apenas o novo fc)\n",
        "trainable_params = sum(p.numel() for p in model.parameters() if p.requires_grad)\n",
        "print(f\"Parâmetros treináveis (apenas a nova camada): {trainable_params}\")"
      ]
    },
    {
      "cell_type": "markdown",
      "source": [
        "# Treina somente a camada nova (classificador)"
      ],
      "metadata": {
        "id": "cTK3rA5bWftx"
      },
      "id": "cTK3rA5bWftx"
    },
    {
      "cell_type": "code",
      "execution_count": null,
      "id": "bd88f34a",
      "metadata": {
        "colab": {
          "base_uri": "https://localhost:8080/"
        },
        "id": "bd88f34a",
        "outputId": "5e060548-469a-4709-e633-3df115834138"
      },
      "outputs": [
        {
          "output_type": "stream",
          "name": "stdout",
          "text": [
            "\n",
            "Época 1/10 (treinando somente classificador)\n"
          ]
        },
        {
          "output_type": "stream",
          "name": "stderr",
          "text": [
            "                                                                         "
          ]
        },
        {
          "output_type": "stream",
          "name": "stdout",
          "text": [
            "   Train loss: 1.8641, Train acc: 34.20%\n",
            "   Val   loss: 1.7835, Val   acc: 37.31%\n",
            "\n",
            "Época 2/10 (treinando somente classificador)\n"
          ]
        },
        {
          "output_type": "stream",
          "name": "stderr",
          "text": [
            "                                                                         "
          ]
        },
        {
          "output_type": "stream",
          "name": "stdout",
          "text": [
            "   Train loss: 1.7133, Train acc: 40.08%\n",
            "   Val   loss: 1.7281, Val   acc: 39.90%\n",
            "\n",
            "Época 3/10 (treinando somente classificador)\n"
          ]
        },
        {
          "output_type": "stream",
          "name": "stderr",
          "text": [
            "                                                                       "
          ]
        },
        {
          "output_type": "stream",
          "name": "stdout",
          "text": [
            "   Train loss: 1.6945, Train acc: 40.55%\n",
            "   Val   loss: 1.7100, Val   acc: 40.99%\n",
            "\n",
            "Época 4/10 (treinando somente classificador)\n"
          ]
        },
        {
          "output_type": "stream",
          "name": "stderr",
          "text": [
            "                                                                         "
          ]
        },
        {
          "output_type": "stream",
          "name": "stdout",
          "text": [
            "   Train loss: 1.6775, Train acc: 40.98%\n",
            "   Val   loss: 1.7258, Val   acc: 40.65%\n",
            "\n",
            "Época 5/10 (treinando somente classificador)\n"
          ]
        },
        {
          "output_type": "stream",
          "name": "stderr",
          "text": [
            "                                                                         "
          ]
        },
        {
          "output_type": "stream",
          "name": "stdout",
          "text": [
            "   Train loss: 1.6710, Train acc: 41.63%\n",
            "   Val   loss: 1.6969, Val   acc: 41.69%\n",
            "\n",
            "Época 6/10 (treinando somente classificador)\n"
          ]
        },
        {
          "output_type": "stream",
          "name": "stderr",
          "text": [
            "                                                                       "
          ]
        },
        {
          "output_type": "stream",
          "name": "stdout",
          "text": [
            "   Train loss: 1.6577, Train acc: 42.08%\n",
            "   Val   loss: 1.7007, Val   acc: 41.01%\n",
            "\n",
            "Época 7/10 (treinando somente classificador)\n"
          ]
        },
        {
          "output_type": "stream",
          "name": "stderr",
          "text": [
            "                                                                         "
          ]
        },
        {
          "output_type": "stream",
          "name": "stdout",
          "text": [
            "   Train loss: 1.6521, Train acc: 41.93%\n",
            "   Val   loss: 1.7013, Val   acc: 41.48%\n",
            "\n",
            "Época 8/10 (treinando somente classificador)\n"
          ]
        },
        {
          "output_type": "stream",
          "name": "stderr",
          "text": [
            "                                                                         "
          ]
        },
        {
          "output_type": "stream",
          "name": "stdout",
          "text": [
            "   Train loss: 1.6522, Train acc: 42.42%\n",
            "   Val   loss: 1.6729, Val   acc: 41.81%\n",
            "\n",
            "Época 9/10 (treinando somente classificador)\n"
          ]
        },
        {
          "output_type": "stream",
          "name": "stderr",
          "text": []
        },
        {
          "output_type": "stream",
          "name": "stdout",
          "text": [
            "   Train loss: 1.6438, Train acc: 42.66%\n",
            "   Val   loss: 1.6848, Val   acc: 41.77%\n",
            "\n",
            "Época 10/10 (treinando somente classificador)\n"
          ]
        },
        {
          "output_type": "stream",
          "name": "stderr",
          "text": [
            "                                                                         "
          ]
        },
        {
          "output_type": "stream",
          "name": "stdout",
          "text": [
            "   Train loss: 1.6427, Train acc: 42.58%\n",
            "   Val   loss: 1.6779, Val   acc: 42.12%\n"
          ]
        },
        {
          "output_type": "stream",
          "name": "stderr",
          "text": [
            "\r"
          ]
        }
      ],
      "source": [
        "# Hiperparâmetros para esta fase\n",
        "criterion = nn.CrossEntropyLoss()                # loss padrão para classificação multi-classe\n",
        "optimizer = optim.Adam(model.fc.parameters(), lr=1e-3)  # apenas os pesos da camada fc\n",
        "scheduler = optim.lr_scheduler.CosineAnnealingLR(optimizer, T_max=10)  # opcional, diminui LR\n",
        "\n",
        "# Número de épocas\n",
        "epochs_classifier = 10\n",
        "\n",
        "# Listas para plotar loss/acc depois\n",
        "train_losses, train_accs = [], []\n",
        "val_losses,  val_accs    = [], []\n",
        "\n",
        "for epoch in range(epochs_classifier):\n",
        "    print(f\"\\nÉpoca {epoch+1}/{epochs_classifier} (treinando somente classificador)\")\n",
        "\n",
        "    # Treino\n",
        "    loss_train, acc_train = train_one_epoch(model, train_loader, criterion, optimizer, device)\n",
        "    train_losses.append(loss_train); train_accs.append(acc_train)\n",
        "\n",
        "    # Validação\n",
        "    loss_val, acc_val = evaluate(model, val_loader, criterion, device)\n",
        "    val_losses.append(loss_val); val_accs.append(acc_val)\n",
        "\n",
        "    # Atualiza LR (se usar scheduler)\n",
        "    scheduler.step()\n",
        "\n",
        "    # Print resumo da época\n",
        "    print(f\"   Train loss: {loss_train:.4f}, Train acc: {acc_train:.2f}%\")\n",
        "    print(f\"   Val   loss: {loss_val:.4f}, Val   acc: {acc_val:.2f}%\")"
      ]
    },
    {
      "cell_type": "markdown",
      "source": [
        "# Descongela todos os parâmetros e faz o fine-tuning"
      ],
      "metadata": {
        "id": "ADyFYebVWnkL"
      },
      "id": "ADyFYebVWnkL"
    },
    {
      "cell_type": "code",
      "execution_count": null,
      "id": "08eec70a",
      "metadata": {
        "colab": {
          "base_uri": "https://localhost:8080/"
        },
        "id": "08eec70a",
        "outputId": "c17ec857-6f56-4ab4-93f8-34738496d430"
      },
      "outputs": [
        {
          "output_type": "stream",
          "name": "stdout",
          "text": [
            "\n",
            "Época 1/10 (fine-tuning completo)\n"
          ]
        },
        {
          "output_type": "stream",
          "name": "stderr",
          "text": [
            "                                                                       "
          ]
        },
        {
          "output_type": "stream",
          "name": "stdout",
          "text": [
            "Novo melhor modelo salvo!\n",
            "   Train loss: 1.4855, Train acc: 47.95%\n",
            "   Val   loss: 1.3604, Val   acc: 51.95%\n",
            "\n",
            "Época 2/10 (fine-tuning completo)\n"
          ]
        },
        {
          "output_type": "stream",
          "name": "stderr",
          "text": []
        },
        {
          "output_type": "stream",
          "name": "stdout",
          "text": [
            "Novo melhor modelo salvo!\n",
            "   Train loss: 1.2788, Train acc: 54.84%\n",
            "   Val   loss: 1.1986, Val   acc: 57.54%\n",
            "\n",
            "Época 3/10 (fine-tuning completo)\n"
          ]
        },
        {
          "output_type": "stream",
          "name": "stderr",
          "text": [
            "                                                                         "
          ]
        },
        {
          "output_type": "stream",
          "name": "stdout",
          "text": [
            "Novo melhor modelo salvo!\n",
            "   Train loss: 1.1558, Train acc: 59.66%\n",
            "   Val   loss: 1.0941, Val   acc: 61.28%\n",
            "\n",
            "Época 4/10 (fine-tuning completo)\n"
          ]
        },
        {
          "output_type": "stream",
          "name": "stderr",
          "text": [
            "                                                                         "
          ]
        },
        {
          "output_type": "stream",
          "name": "stdout",
          "text": [
            "Novo melhor modelo salvo!\n",
            "   Train loss: 1.0727, Train acc: 62.25%\n",
            "   Val   loss: 1.0098, Val   acc: 64.32%\n",
            "\n",
            "Época 5/10 (fine-tuning completo)\n"
          ]
        },
        {
          "output_type": "stream",
          "name": "stderr",
          "text": []
        },
        {
          "output_type": "stream",
          "name": "stdout",
          "text": [
            "Novo melhor modelo salvo!\n",
            "   Train loss: 1.0044, Train acc: 64.72%\n",
            "   Val   loss: 0.9543, Val   acc: 66.41%\n",
            "\n",
            "Época 6/10 (fine-tuning completo)\n"
          ]
        },
        {
          "output_type": "stream",
          "name": "stderr",
          "text": [
            "                                                                         "
          ]
        },
        {
          "output_type": "stream",
          "name": "stdout",
          "text": [
            "Novo melhor modelo salvo!\n",
            "   Train loss: 0.9455, Train acc: 66.81%\n",
            "   Val   loss: 0.9147, Val   acc: 67.80%\n",
            "\n",
            "Época 7/10 (fine-tuning completo)\n"
          ]
        },
        {
          "output_type": "stream",
          "name": "stderr",
          "text": [
            "                                                                         "
          ]
        },
        {
          "output_type": "stream",
          "name": "stdout",
          "text": [
            "Novo melhor modelo salvo!\n",
            "   Train loss: 0.9146, Train acc: 67.95%\n",
            "   Val   loss: 0.8726, Val   acc: 69.50%\n",
            "\n",
            "Época 8/10 (fine-tuning completo)\n"
          ]
        },
        {
          "output_type": "stream",
          "name": "stderr",
          "text": [
            "                                                                         "
          ]
        },
        {
          "output_type": "stream",
          "name": "stdout",
          "text": [
            "Novo melhor modelo salvo!\n",
            "   Train loss: 0.8755, Train acc: 69.36%\n",
            "   Val   loss: 0.8463, Val   acc: 70.16%\n",
            "\n",
            "Época 9/10 (fine-tuning completo)\n"
          ]
        },
        {
          "output_type": "stream",
          "name": "stderr",
          "text": [
            "                                                                       "
          ]
        },
        {
          "output_type": "stream",
          "name": "stdout",
          "text": [
            "Novo melhor modelo salvo!\n",
            "   Train loss: 0.8506, Train acc: 69.98%\n",
            "   Val   loss: 0.8280, Val   acc: 70.97%\n",
            "\n",
            "Época 10/10 (fine-tuning completo)\n"
          ]
        },
        {
          "output_type": "stream",
          "name": "stderr",
          "text": [
            "                                                                         "
          ]
        },
        {
          "output_type": "stream",
          "name": "stdout",
          "text": [
            "Novo melhor modelo salvo!\n",
            "   Train loss: 0.8249, Train acc: 71.05%\n",
            "   Val   loss: 0.8151, Val   acc: 71.36%\n"
          ]
        },
        {
          "output_type": "stream",
          "name": "stderr",
          "text": [
            "\r"
          ]
        }
      ],
      "source": [
        "\n",
        "# Descongela tudo:\n",
        "for param in model.parameters():\n",
        "    param.requires_grad = True\n",
        "\n",
        "# Optimizer para todos os parâmetros (lr menor que antes)\n",
        "optimizer_ft = optim.Adam(model.parameters(), lr=1e-5)  # 1e-4 é um bom ponto de partida\n",
        "scheduler_ft = optim.lr_scheduler.CosineAnnealingLR(optimizer_ft, T_max=20)\n",
        "\n",
        "epochs_finetune = 25\n",
        "\n",
        "for epoch in range(epochs_finetune):\n",
        "    print(f\"\\nÉpoca {epoch+1}/{epochs_finetune} (fine-tuning completo)\")\n",
        "\n",
        "    loss_train, acc_train = train_one_epoch(model, train_loader, criterion, optimizer_ft, device)\n",
        "    loss_val,   acc_val   = evaluate(model, val_loader, criterion, device)\n",
        "\n",
        "    scheduler_ft.step()\n",
        "\n",
        "    # Opcional: guarda o melhor modelo\n",
        "    if epoch == 0 or acc_val > max(val_accs):\n",
        "        best_model_state = model.state_dict()\n",
        "        print(\"Novo melhor modelo salvo!\")\n",
        "\n",
        "    # Append para visualização posterior\n",
        "    train_losses.append(loss_train); train_accs.append(acc_train)\n",
        "    val_losses.append(loss_val);     val_accs.append(acc_val)\n",
        "\n",
        "    print(f\"   Train loss: {loss_train:.4f}, Train acc: {acc_train:.2f}%\")\n",
        "    print(f\"   Val   loss: {loss_val:.4f}, Val   acc: {acc_val:.2f}%\")"
      ]
    },
    {
      "cell_type": "markdown",
      "source": [
        "# Avaliando as métricas"
      ],
      "metadata": {
        "id": "5w7f4r79Wxkd"
      },
      "id": "5w7f4r79Wxkd"
    },
    {
      "cell_type": "code",
      "execution_count": null,
      "id": "8a70cc6d",
      "metadata": {
        "colab": {
          "base_uri": "https://localhost:8080/",
          "height": 514
        },
        "id": "8a70cc6d",
        "outputId": "33a5444a-7a08-466f-fcbf-7e2bdaaceaf5"
      },
      "outputs": [
        {
          "output_type": "display_data",
          "data": {
            "text/plain": [
              "<Figure size 1200x500 with 2 Axes>"
            ],
            "image/png": "[encoded data removed]"
          },
          "metadata": {}
        }
      ],
      "source": [
        "def plot_history(train_losses, train_accs, val_losses, val_accs):\n",
        "    plt.figure(figsize=(12,5))\n",
        "\n",
        "    # Loss\n",
        "    plt.subplot(1,2,1)\n",
        "    plt.plot(train_losses, label='Train loss')\n",
        "    plt.plot(val_losses,   label='Val loss')\n",
        "    plt.title('Loss por época')\n",
        "    plt.xlabel('Época')\n",
        "    plt.ylabel('Loss')\n",
        "    plt.legend()\n",
        "    plt.grid(True)\n",
        "\n",
        "    # Accuracy\n",
        "    plt.subplot(1,2,2)\n",
        "    plt.plot(train_accs, label='Train acc (%)')\n",
        "    plt.plot(val_accs,   label='Val acc (%)')\n",
        "    plt.title('Acurácia por época')\n",
        "    plt.xlabel('Época')\n",
        "    plt.ylabel('Acurácia (%)')\n",
        "    plt.legend()\n",
        "    plt.grid(True)\n",
        "\n",
        "    plt.tight_layout()\n",
        "    plt.show()\n",
        "\n",
        "# Chama a função\n",
        "plot_history(train_losses, train_accs, val_losses, val_accs)"
      ]
    },
    {
      "cell_type": "markdown",
      "source": [
        "# Salva o modelo treinado\n"
      ],
      "metadata": {
        "id": "aFmrD1VOW3Zh"
      },
      "id": "aFmrD1VOW3Zh"
    },
    {
      "cell_type": "code",
      "execution_count": null,
      "id": "36176791",
      "metadata": {
        "colab": {
          "base_uri": "https://localhost:8080/"
        },
        "id": "36176791",
        "outputId": "f0386bc7-238c-47b5-82c1-6172574331eb"
      },
      "outputs": [
        {
          "output_type": "stream",
          "name": "stdout",
          "text": [
            "Modelo salvo em: cifar10_resnet18_finetuned.pth\n"
          ]
        }
      ],
      "source": [
        "\n",
        "# Salva o estado completo (pesos, otimizador, epoch, etc.)\n",
        "model_path = 'cifar10_resnet18_finetuned.pth'\n",
        "torch.save({\n",
        "    'model_state_dict': model.state_dict(),\n",
        "    'optimizer_state_dict': optimizer_ft.state_dict(),\n",
        "    'epoch': epochs_classifier + epochs_finetune,\n",
        "    'val_acc': val_accs[-1]   # última acurácia de val\n",
        "}, model_path)\n",
        "\n",
        "print(f\"Modelo salvo em: {model_path}\")\n",
        "\n",
        "# Se quiser carregar o modelo:\n",
        "\n",
        "# checkpoint = torch.load(model_path, map_location=device)\n",
        "# model.load_state_dict(checkpoint['model_state_dict'])\n",
        "# optimizer_ft.load_state_dict(checkpoint['optimizer_state_dict'])\n",
        "# epoch = checkpoint['epoch']\n",
        "# val_acc = checkpoint['val_acc']\n",
        "# print(f\"Modelo carregado: época {epoch}, val_acc {val_acc:.2f}%\")"
      ]
    }
  ],
  "metadata": {
    "kernelspec": {
      "display_name": "Python 3",
      "name": "python3"
    },
    "language_info": {
      "codemirror_mode": {
        "name": "ipython",
        "version": 3
      },
      "file_extension": ".py",
      "mimetype": "text/x-python",
      "name": "python",
      "nbconvert_exporter": "python",
      "pygments_lexer": "ipython3",
      "version": "3.13.7"
    },
    "colab": {
      "provenance": [],
      "gpuType": "A100"
    },
    "accelerator": "GPU"
  },
  "nbformat": 4,
  "nbformat_minor": 5
}