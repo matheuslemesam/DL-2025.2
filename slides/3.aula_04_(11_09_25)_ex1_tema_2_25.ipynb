{
  "nbformat": 4,
  "nbformat_minor": 0,
  "metadata": {
    "colab": {
      "provenance": [],
      "gpuType": "T4"
    },
    "kernelspec": {
      "name": "python3",
      "display_name": "Python 3"
    },
    "language_info": {
      "name": "python"
    },
    "accelerator": "GPU"
  },
  "cells": [
    {
      "cell_type": "markdown",
      "source": [
        "<left><img src=\"https://i.ibb.co/zWjkHsWJ/marca-final-rgb-campanha-2025-versao02.png\" width=\"35%\" height=\"35%\"></left>"
      ],
      "metadata": {
        "id": "KPJOlxhAUpDT"
      }
    },
    {
      "cell_type": "markdown",
      "source": [
        "# Tópicos em Matemática Aplicada: Deep Learning (Aula 04)\n",
        "\n",
        "**Exemplo 01**\n",
        "\n",
        "Data: 11/set/25\n"
      ],
      "metadata": {
        "id": "-3QIjCouNy7M"
      }
    },
    {
      "cell_type": "markdown",
      "source": [
        "---\n",
        "\n",
        "# Introdução ao Pytorch: MNIST\n",
        "\n",
        "**Objetivos:**\n",
        "1.  Entender o que é o PyTorch e por que ele é tão utilizado.\n",
        "2.  Aprender sobre **Tensors**, a estrutura de dados fundamental.\n",
        "3.  Usar o **Autograd** para calcular gradientes automaticamente.\n",
        "4.  Carregar dados de forma eficiente com `Dataset` e `DataLoader`.\n",
        "5.  Construir, treinar e avaliar uma rede neural para classificar imagens.\n",
        "6.  Analisar os resultados com uma **Matriz de Confusão**.\n",
        "\n",
        "---\n",
        "\n",
        "### **Ação Necessária: Habilitar a GPU**\n",
        "Para acelerar nosso treinamento, vamos usar uma GPU gratuita do Colab.\n",
        "Vá no menu e selecione:\n",
        "\n",
        "`Runtime` -> `Change Runtime Type` -> `T4 GPU`\n",
        "\n",
        "---"
      ],
      "metadata": {
        "id": "Amg8-zhYFcrK"
      }
    },
    {
      "cell_type": "markdown",
      "source": [
        "## O que é o PyTorch?\n",
        "\n",
        "**PyTorch** é uma biblioteca de código aberto para Machine Learning baseada na biblioteca Torch, desenvolvida principalmente pelo laboratório de pesquisa em IA do Facebook (Meta AI). Lançado em 2016, ele rapidamente se tornou um dos favoritos da comunidade de pesquisa e da indústria.\n",
        "\n",
        "**Por que o PyTorch se tornou tão popular?**\n",
        "\n",
        "1.  Intuitiva:** Sua sintaxe é muito parecida com a do Python e do NumPy, o que o torna fácil de aprender e usar. Você sente que está escrevendo Python, não aprendendo uma linguagem nova.\n",
        "\n",
        "2.  **Grafo Computacional Dinâmico (Define-by-Run):** Diferente de frameworks mais antigos (como as primeiras versões do TensorFlow), o PyTorch constrói o grafo de computação em tempo real, à medida que o código é executado. Isso torna o *debugging* (depuração) incrivelmente mais simples. Você pode usar `print()` ou um depurador Python padrão para inspecionar qualquer tensor em qualquer ponto do código.\n",
        "\n",
        "3.  **Flexibilidade para Pesquisa:** O grafo dinâmico permite a criação de modelos complexos com estruturas de controle (como laços `for` e condicionais `if` que dependem dos dados), o que é um grande atrativo para aqueles que exploram novas arquiteturas.\n",
        "\n",
        "4.  **Ecossistema Robusto:** Possui bibliotecas consolidadas e importantes como `torchvision` (para visão computacional), `torchaudio` (para áudio) e `torchtext` (para processamento de linguagem natural), que vêm com datasets, modelos pré-treinados e transformações de dados prontas para uso.\n",
        "\n",
        "Em resumo, PyTorch combina simplicidade e poder, tornando-o uma excelente escolha tanto para iniciantes quanto para especialistas."
      ],
      "metadata": {
        "id": "Z1vw9F4_Fg-h"
      }
    },
    {
      "cell_type": "markdown",
      "source": [
        "### Passo 1: Imports e Configuração do Dispositivo\n",
        "\n",
        "Vamos começar importando as bibliotecas que usaremos. A linha mais importante aqui é a que define o `device`. Este pequeno trecho de código verifica se uma GPU (`cuda`) está disponível no ambiente do Colab. Se estiver, ele instrui o PyTorch a usar a GPU; caso contrário, usará a CPU. Executar operações em uma GPU pode ser centenas de vezes mais rápido."
      ],
      "metadata": {
        "id": "mTOaE3IQFkfj"
      }
    },
    {
      "cell_type": "code",
      "execution_count": null,
      "metadata": {
        "colab": {
          "base_uri": "https://localhost:8080/"
        },
        "id": "vezTvAfpFbn3",
        "outputId": "9572be05-a78f-4c08-ee5a-1139cb8db558"
      },
      "outputs": [
        {
          "output_type": "stream",
          "name": "stdout",
          "text": [
            "Usando o dispositivo: cuda\n"
          ]
        }
      ],
      "source": [
        "import torch\n",
        "import torch.nn as nn\n",
        "import torch.optim as optim # importa os otimizadores\n",
        "from torch.utils.data import DataLoader\n",
        "from torchvision import datasets, transforms # importa os datasets que usaremos\n",
        "import matplotlib.pyplot as plt\n",
        "import numpy as np\n",
        "from sklearn.metrics import confusion_matrix, ConfusionMatrixDisplay\n",
        "\n",
        "# Ponto chave: verifica se a GPU está disponível e a define na variável 'device'\n",
        "device = torch.device(\"cuda\" if torch.cuda.is_available() else \"cpu\")\n",
        "print(f\"Usando o dispositivo: {device}\")"
      ]
    },
    {
      "cell_type": "markdown",
      "source": [
        "### Passo 2: Tensors - A Linguagem Universal do Deep Learning\n",
        "\n",
        "Tudo no PyTorch é baseado em **Tensores**. Superficialmente, um tensor é apenas uma estrutura de dados N-dimensional, muito parecida com os arrays do NumPy. Um escalar (um único número) é um tensor de 0 dimensões, um vetor é um tensor de 1 dimensão, uma matriz é um tensor de 2 dimensões, e assim por diante.\n",
        "\n",
        "**Mas por que eles são a base de tudo em Deep Learning?**\n",
        "\n",
        "A resposta está em como as redes neurais funcionam: elas são, em essência, uma série de operações matemáticas aplicadas a dados numéricos. Os tensores fornecem uma forma unificada e eficiente de representar tanto os dados quanto as operações.\n",
        "\n",
        "1.  **Representação Unificada de Dados:** Não importa qual é o seu dado de entrada (uma imagem, uma frase, um vídeo ou uma tabela), ele precisa ser convertido para um formato numérico que a rede possa processar. Os tensores são esse formato.\n",
        "    *   **Uma imagem** se torna um tensor 3D: `(altura, largura, canais de cor)`.\n",
        "    *   **Um lote de imagens** se torna um tensor 4D: `(tamanho_do_lote, altura, largura, canais)`. No nosso exemplo de hoje, do MNIST, será `[128, 1, 28, 28]`.\n",
        "    *   **Texto** é convertido em vetores numéricos (incorporações, ou embeddings), resultando em um tensor 2D: `(numero_de_palavras, dimensao_do_embedding)`.\n",
        "\n",
        "2.  **Parâmetros do Modelo são Tensores:** Como já vimos, o conhecimento que uma rede neural aprende durante o treinamento é armazenado em seus **pesos (weights)** e **vieses (biases)**. Adivinhe o que eles são? Tensores, como vimos na última aula! Uma camada linear (`nn.Linear(784, 128)`) nada mais é do que uma matriz de pesos (um tensor 2D de dimensão `[128, 784]`) e um vetor de viés (um tensor 1D de dimensão `[128]`).\n",
        "\n",
        "3.  **Computação Otimizada para GPUs:** A operação fundamental em redes neurais é a multiplicação de matrizes (tensores 2D), seguida por adições e ativações. Essas operações são altamente paralelizáveis, o que significa que muitos cálculos pequenos e independentes podem ser executados ao mesmo tempo. As **GPUs (Unidades de Processamento Gráfico)** são projetadas exatamente para isso. Ao representar tudo como tensores, o PyTorch pode enviar esses dados e operações para a GPU, realizando cálculos massivos em uma fração do tempo que uma CPU levaria.\n",
        "\n",
        "Concluímos que tudo que é processado no deep learning (os dados de entrada, os pesos do modelo e os resultados intermediários) são tensores. Eles são a linguagem que permite que os dados fluam através da rede e que os cálculos sejam executados de forma extremamente rápida.\n",
        "\n",
        "Abaixo vamos criar alguns na prática para ver como funcionam."
      ],
      "metadata": {
        "id": "VLFXS_seFrQc"
      }
    },
    {
      "cell_type": "code",
      "source": [
        "# Criação de um tensor a partir de uma lista Python\n",
        "x = torch.tensor([[1, 2, 3], [4, 5, 6]], dtype=torch.float32)\n",
        "print(\"Tensor x:\\n\", x)\n",
        "print(\"Shape (formato) de x:\", x.shape)\n",
        "\n",
        "# Tensores comuns: zeros, ones, randn (distribuição normal)\n",
        "rands = torch.randn((2, 3))\n",
        "print(\"\\nTensor de números aleatórios:\\n\", rands)\n",
        "\n",
        "# Operações são feitas elemento a elemento\n",
        "soma = x + rands\n",
        "print(\"\\nSoma (x + rands):\\n\", soma)\n",
        "\n",
        "# Multiplicação de matrizes (essencial em Deep Learning)\n",
        "a = torch.randn(5, 3)\n",
        "b = torch.randn(3, 4)\n",
        "c = a @ b # O operador @ é um atalho para torch.matmul\n",
        "print(\"\\nShape da multiplicação de matrizes:\", c.shape)\n",
        "\n",
        "# Mover um tensor para a GPU é simples com o método .to()\n",
        "if torch.cuda.is_available():\n",
        "    x_gpu = x.to(device)\n",
        "    print(\"\\nDevice do tensor x_gpu:\", x_gpu.device)"
      ],
      "metadata": {
        "colab": {
          "base_uri": "https://localhost:8080/"
        },
        "id": "y7R6Jol-FuMF",
        "outputId": "e62e7292-000d-4b00-ecf3-8fec3f9c90ad"
      },
      "execution_count": null,
      "outputs": [
        {
          "output_type": "stream",
          "name": "stdout",
          "text": [
            "Tensor x:\n",
            " tensor([[1., 2., 3.],\n",
            "        [4., 5., 6.]])\n",
            "Shape (formato) de x: torch.Size([2, 3])\n",
            "\n",
            "Tensor de números aleatórios:\n",
            " tensor([[ 0.6612, -0.4945, -0.4624],\n",
            "        [ 1.0196,  1.0126, -1.7958]])\n",
            "\n",
            "Soma (x + rands):\n",
            " tensor([[1.6612, 1.5055, 2.5376],\n",
            "        [5.0196, 6.0126, 4.2042]])\n",
            "\n",
            "Shape da multiplicação de matrizes: torch.Size([5, 4])\n",
            "\n",
            "Device do tensor x_gpu: cuda:0\n"
          ]
        }
      ]
    },
    {
      "cell_type": "markdown",
      "source": [
        "### Passo 3: Autograd - O Sistema de Gradientes Automático\n",
        "\n",
        "Esta é uma das principais funções por trás do PyTorch. Para treinar uma rede neural, precisamos calcular o gradiente da função de perda em relação a cada peso do modelo, como vimos previamente, para realizar o backpropagation.\n",
        "\n",
        "O PyTorch faz isso para nós! Se um tensor for criado com o parâmetro `requires_grad=True`, o PyTorch rastreia todas as operações feitas com ele. Depois, quando chamamos `.backward()` em um resultado (como a perda), ele calcula automaticamente os gradientes e os armazena no atributo `.grad` dos tensores originais."
      ],
      "metadata": {
        "id": "K3X1ukwGF5n1"
      }
    },
    {
      "cell_type": "code",
      "source": [
        "# Criamos um tensor e definimos requires_grad=True para rastrear as operações\n",
        "w = torch.tensor([2.0, 3.0, 1.0], requires_grad=True)\n",
        "\n",
        "# Definimos uma função simples: y = 2*w[0]^2 + w[1]\n",
        "y = 2 * w[0]**2 + w[1]\n",
        "print(\"Resultado y:\", y)\n",
        "\n",
        "# Calculamos os gradientes de y em relação a w\n",
        "y.backward()\n",
        "\n",
        "# Os gradientes (dy/dw) são armazenados no atributo .grad\n",
        "# dy/dw0 = 4*w[0] = 4*2 = 8\n",
        "# dy/dw1 = 1\n",
        "# dy/dw2 = 0 (pois w[2] não afeta y)\n",
        "print(\"Gradientes (dy/dw):\", w.grad)"
      ],
      "metadata": {
        "colab": {
          "base_uri": "https://localhost:8080/"
        },
        "id": "s4qdySVZF7B3",
        "outputId": "243bddf6-eb7b-4ef1-fc4c-b1212ef75c3c"
      },
      "execution_count": null,
      "outputs": [
        {
          "output_type": "stream",
          "name": "stdout",
          "text": [
            "Resultado y: tensor(11., grad_fn=<AddBackward0>)\n",
            "Gradientes (dy/dw): tensor([8., 1., 0.])\n"
          ]
        }
      ]
    },
    {
      "cell_type": "markdown",
      "source": [
        "### Passo 4: Preparando os Dados com `Dataset` e `DataLoader`\n",
        "\n",
        "Para treinar um modelo, precisamos de dados. O PyTorch nos oferece duas ferramentas poderosas para isso:\n",
        "- `Dataset`: Uma classe abstrata que representa nosso conjunto de dados. `torchvision` já vem com datasets conhecidos, como o MNIST, prontos para uso.\n",
        "- `DataLoader`: Pega um `Dataset` e o transforma em um iterador que nos fornece os dados em lotes (*batches*), embaralha os dados a cada época e pode usar processos paralelos para carregar os dados mais rápido.\n",
        "\n",
        "Vamos usar o dataset MNIST, que contém imagens de dígitos escritos à mão (0 a 9)."
      ],
      "metadata": {
        "id": "Ki1gDZ-MF8hp"
      }
    },
    {
      "cell_type": "markdown",
      "source": [
        "### O que é e onde definimos o tamanho do lote (`batch_size`)?\n",
        "\n",
        "\n",
        "**Por que usamos lotes em vez de treinar com uma imagem de cada vez ou com todas de uma vez?**\n",
        "\n",
        "1.  **Eficiência Computacional:** Processar uma imagem por vez é ineficiente, pois não aproveita a capacidade de paralelismo das GPUs. Processar todas as 60.000 imagens de uma vez (o que é chamado de *batch gradient descent*) exigiria uma quantidade enorme de memória RAM/VRAM, tornando o processo inviável para a maioria dos datasets.\n",
        "\n",
        "2.  **Generalização e Estabilidade:** Os mini-lotes (*mini-batches*, nosso caso) oferecem um equilíbrio perfeito. A média dos gradientes calculada sobre um lote (ex: 128 imagens) é uma estimativa muito mais estável e menos \"ruidosa\" do que o gradiente de uma única imagem. Isso ajuda o treinamento a convergir de forma mais suave e, muitas vezes, leva o modelo a aprender padrões mais gerais (melhor generalização), em vez de se ajustar excessivamente aos detalhes de cada exemplo individual.\n",
        "\n",
        "No código abaixo, ao criar o `DataLoader`, você verá o parâmetro `batch_size=128`. É aqui que definimos quantas imagens o modelo verá antes de atualizar seus pesos.\n",
        "\n",
        "Portanto, `batch_size` é um **hiperparâmetro** crucial: um valor muito pequeno pode tornar o treino instável, enquanto um valor muito grande pode exigir muita memória e levar a uma convergência mais lenta ou a um mínimo local ruim.\n",
        "\n"
      ],
      "metadata": {
        "id": "Ixl24nI0H0FE"
      }
    },
    {
      "cell_type": "code",
      "source": [
        "# `transforms.ToTensor()` converte as imagens (formato PIL/Pillow) para Tensores\n",
        "# e normaliza os pixels de [0, 255] para [0.0, 1.0]\n",
        "transform = transforms.ToTensor()\n",
        "\n",
        "# Baixar o dataset de treino (download=True faz o download na primeira vez)\n",
        "train_dataset = datasets.MNIST(root='./data', train=True, download=True, transform=transform)\n",
        "\n",
        "# Baixar o dataset de teste\n",
        "test_dataset = datasets.MNIST(root='./data', train=False, download=True, transform=transform)\n",
        "\n",
        "# Criar os DataLoaders\n",
        "train_loader = DataLoader(dataset=train_dataset, batch_size=128, shuffle=True)\n",
        "test_loader = DataLoader(dataset=test_dataset, batch_size=128, shuffle=False)\n",
        "\n",
        "# Vamos dar uma olhada em um lote de dados\n",
        "images, labels = next(iter(train_loader))\n",
        "print(\"Shape do lote de imagens:\", images.shape) # [batch_size, canais, altura, largura]\n",
        "print(\"Shape do lote de rótulos:\", labels.shape)\n",
        "\n",
        "# Visualiza algumas imagens\n",
        "fig, axes = plt.subplots(1, 8, figsize=(12, 2))\n",
        "for i, ax in enumerate(axes):\n",
        "    ax.imshow(images[i].squeeze(), cmap=\"gray\")\n",
        "    ax.set_title(f\"Rótulo: {labels[i].item()}\")\n",
        "    ax.axis(\"off\")\n",
        "plt.show()"
      ],
      "metadata": {
        "colab": {
          "base_uri": "https://localhost:8080/",
          "height": 278
        },
        "id": "aJLYYVv8F-0P",
        "outputId": "9ecaf118-d951-4c6e-85f2-21a1f0255b61"
      },
      "execution_count": null,
      "outputs": [
        {
          "output_type": "stream",
          "name": "stderr",
          "text": [
            "100%|██████████| 9.91M/9.91M [00:00<00:00, 17.7MB/s]\n",
            "100%|██████████| 28.9k/28.9k [00:00<00:00, 477kB/s]\n",
            "100%|██████████| 1.65M/1.65M [00:00<00:00, 3.82MB/s]\n",
            "100%|██████████| 4.54k/4.54k [00:00<00:00, 6.99MB/s]\n"
          ]
        },
        {
          "output_type": "stream",
          "name": "stdout",
          "text": [
            "Shape do lote de imagens: torch.Size([128, 1, 28, 28])\n",
            "Shape do lote de rótulos: torch.Size([128])\n"
          ]
        },
        {
          "output_type": "display_data",
          "data": {
            "text/plain": [
              "<Figure size 1200x200 with 8 Axes>"
            ],
            "image/png": "[encoded data removed]"
          },
          "metadata": {}
        }
      ]
    },
    {
      "cell_type": "markdown",
      "source": [
        "## Verificando o dataset"
      ],
      "metadata": {
        "id": "saD3PfXC-g-L"
      }
    },
    {
      "cell_type": "code",
      "source": [
        "# Os objetos Dataset do PyTorch funcionam com a função len() do Python.\n",
        "num_train_images = len(train_dataset)\n",
        "num_test_images = len(test_dataset)\n",
        "\n",
        "print(f\"Número de imagens no conjunto de treino: {num_train_images}\")\n",
        "print(f\"Número de imagens no conjunto de teste: {num_test_images}\")\n",
        "\n",
        "# Da mesma forma, podemos usar len() no DataLoader para ver quantos lotes ele irá gerar.\n",
        "# Isso é simplesmente: (total de imagens / tamanho do lote), arredondado para cima.\n",
        "num_train_batches = len(train_loader)\n",
        "num_test_batches = len(test_loader)\n",
        "\n",
        "print(f\"Tamanho do lote (batch_size): {train_loader.batch_size}\")\n",
        "print(f\"Número de lotes de treino: {num_train_batches} (Cálculo: {num_train_images}/{train_loader.batch_size} = {num_train_images/train_loader.batch_size:.2f})\")\n",
        "print(f\"Número de lotes de teste: {num_test_batches} (Cálculo: {num_test_images}/{test_loader.batch_size} = {num_test_images/test_loader.batch_size:.2f})\")"
      ],
      "metadata": {
        "colab": {
          "base_uri": "https://localhost:8080/"
        },
        "id": "2LbbYHe1IOTJ",
        "outputId": "a999754b-2c19-4d40-93e2-8ebaa8316d76"
      },
      "execution_count": null,
      "outputs": [
        {
          "output_type": "stream",
          "name": "stdout",
          "text": [
            "Número de imagens no conjunto de treino: 60000\n",
            "Número de imagens no conjunto de teste: 10000\n",
            "Tamanho do lote (batch_size): 128\n",
            "Número de lotes de treino: 469 (Cálculo: 60000/128 = 468.75)\n",
            "Número de lotes de teste: 79 (Cálculo: 10000/128 = 78.12)\n"
          ]
        }
      ]
    },
    {
      "cell_type": "markdown",
      "source": [
        "### Passo 5: Construindo e Treinando o Modelo\n",
        "\n",
        "Aqui, vamos construir e treinar a nossa rede neural básica do tipo MLP (Multi-Layer Perceptron) usando PyTorch. O processo de treinamento é dividido em três etapas principais:\n",
        "\n",
        "#### 1. Arquitetura da Rede Neural (`SimpleMLP`)\n",
        "Primeiro, definimos a estrutura da nossa rede.\n",
        "- **`class SimpleMLP(nn.Module)`**: Criamos uma classe para nossa rede, que herda as funcionalidades básicas de um modelo PyTorch.\n",
        "- **`nn.Sequential`**: Usamos este contêiner para empilhar as camadas em sequência. Os dados entrarão na primeira camada e passarão por cada uma delas na ordem definida sequencialmente no código.\n",
        "- **`nn.Flatten()`**: Transforma a imagem de entrada (ex: 28x28 pixels) em um vetor empilhado (de 784 elementos), preparando os dados para as camadas seguintes.\n",
        "- **`nn.Linear(...)`**: São as camadas densas, onde ocorrem os principais cálculos e o aprendizado dos pesos e vieses.\n",
        "- **`nn.ReLU()`**: É a nossa função de ativação.\n",
        "- **`forward(self, x)`**: Este método define que os dados (`x`) fluam através da rede na direção pra frente.\n",
        "\n",
        "> **Observação:** A camada de ativação `Softmax` não é incluída no final do modelo. Isso ocorre porque a função de perda que usaremos, `nn.CrossEntropyLoss`, já aplica internamente uma operação equivalente de forma mais eficiente e estável.\n",
        "\n",
        "#### 2. Componentes de Treinamento (Modelo, Loss, Otimizador)\n",
        "Em seguida, preparamos as ferramentas necessárias para o treinamento:\n",
        "- **`model = SimpleMLP().to(device)`**: Criamos uma instância do nosso modelo e o enviamos para o dispositivo de processamento (`device`), que pode ser uma CPU ou uma GPU.\n",
        "- **`criterion = nn.CrossEntropyLoss()`**: Definimos a **função de perda** que mede o erro da previsão em comparação com os rótulos verdadeiros.\n",
        "- **`optimizer = optim.Adam(...)`**: Escolhemos o **otimizador**. Ele é o algoritmo responsável por ajustar os pesos internos do modelo para minimizar a perda calculado pela `criterion`. O Adam é uma escolha robusta e muito popular, vamos testar outras por aqui.\n",
        "\n",
        "#### 3. Laço de Treinamento Principal\n",
        "Este é o coração do processo, onde o aprendizado efetivamente acontece. O código itera várias vezes sobre todo o conjunto de dados. Cada iteração completa é chamada de **época**.\n",
        "\n",
        "Para cada época, o seguinte ciclo se repete para cada lote (`batch`) de dados:\n",
        "1.  **`optimizer.zero_grad()`**: Limpa os gradientes da iteração anterior.\n",
        "2.  **`outputs = model(images)`**: Realiza a passada para frente (*forward pass*), onde o lote de imagens passa pela rede para gerar previsões/erro.\n",
        "3.  **`loss = criterion(outputs, labels)`**: Calcula o erro (perda) entre as previsões (`outputs`) e os rótulos corretos (`labels`).\n",
        "4.  **`loss.backward()`**: Realiza a passada para trás (*backpropagation*), calculando como cada peso do modelo contribuiu para o erro.\n",
        "5.  **`optimizer.step()`**: O otimizador usa os gradientes calculados para atualizar os pesos do modelo, dando um pequeno passo na direção que minimiza o erro.\n",
        "\n",
        "Ao final de cada época, calculamos e imprimimos a perda e a acurácia médias para acompanhar o progresso do aprendizado do modelo."
      ],
      "metadata": {
        "id": "woaNqvGDGE_w"
      }
    },
    {
      "cell_type": "code",
      "source": [
        "# 1. Definindo a arquitetura da rede\n",
        "class SimpleMLP(nn.Module):\n",
        "    def __init__(self):\n",
        "        super().__init__()\n",
        "        self.network = nn.Sequential(\n",
        "            nn.Flatten(),\n",
        "            nn.Linear(28 * 28, 128),\n",
        "            nn.ReLU(),\n",
        "            nn.Linear(128, 10)\n",
        "        )\n",
        "\n",
        "    def forward(self, x):\n",
        "        return self.network(x)\n",
        "\n",
        "# 2. Instanciando os componentes\n",
        "model = SimpleMLP().to(device)\n",
        "criterion = nn.CrossEntropyLoss()\n",
        "optimizer = optim.Adam(model.parameters(), lr=0.001)\n",
        "\n",
        "# 3. Laço de treinamento\n",
        "num_epochs = 10\n",
        "history = {\n",
        "    'train_loss': [],\n",
        "    'train_acc': []\n",
        "}\n",
        "\n",
        "# Coloca o modelo em modo de treinamento uma vez, antes do laço\n",
        "model.train()\n",
        "\n",
        "print(\"Iniciando o treinamento...\")\n",
        "\n",
        "for epoch in range(num_epochs):\n",
        "    running_loss = 0.0\n",
        "    correct_predictions = 0\n",
        "    total_samples = 0\n",
        "\n",
        "    # Itera sobre os lotes de dados de treinamento\n",
        "    for images, labels in train_loader:\n",
        "        # Move os dados para o dispositivo (CPU/GPU)\n",
        "        images, labels = images.to(device), labels.to(device)\n",
        "\n",
        "        # 1. Zera os gradientes do otimizador\n",
        "        optimizer.zero_grad()\n",
        "\n",
        "        # 2. Forward pass: passa as imagens pela rede\n",
        "        outputs = model(images)\n",
        "\n",
        "        # 3. Calcula a perda (loss)\n",
        "        loss = criterion(outputs, labels)\n",
        "\n",
        "        # 4. Backward pass: calcula os gradientes\n",
        "        loss.backward()\n",
        "\n",
        "        # 5. Atualiza os pesos da rede\n",
        "        optimizer.step()\n",
        "\n",
        "    # ----------------------------------------------------------\n",
        "    # Essa parte é opcional\n",
        "        # Acumula as métricas da época\n",
        "        running_loss += loss.item() * images.size(0)\n",
        "        _, predicted = torch.max(outputs.data, 1)\n",
        "        total_samples += labels.size(0)\n",
        "        correct_predictions += (predicted == labels).sum().item()\n",
        "\n",
        "    # Calcula a perda e acurácia média da época\n",
        "    epoch_loss = running_loss / total_samples\n",
        "    epoch_acc = correct_predictions / total_samples\n",
        "\n",
        "    # Armazena e imprime o progresso\n",
        "    history['train_loss'].append(epoch_loss)\n",
        "    history['train_acc'].append(epoch_acc)\n",
        "    # ----------------------------------------------------------\n",
        "\n",
        "    print(f\"Época [{epoch+1:02d}/{num_epochs:02d}] - \"\n",
        "          f\"Loss de Treino: {epoch_loss:.4f}, Acurácia de Treino: {epoch_acc:.4f}\")\n",
        "\n",
        "print(\"\\nTreinamento concluído!\")"
      ],
      "metadata": {
        "colab": {
          "base_uri": "https://localhost:8080/"
        },
        "id": "3iOzHiFlAgJb",
        "outputId": "002a21a9-580a-47fe-aabe-adf4c3c81b81"
      },
      "execution_count": null,
      "outputs": [
        {
          "output_type": "stream",
          "name": "stdout",
          "text": [
            "Iniciando o treinamento...\n",
            "Época [01/10] - Loss de Treino: 0.4248, Acurácia de Treino: 0.8861\n",
            "Época [02/10] - Loss de Treino: 0.2018, Acurácia de Treino: 0.9432\n",
            "Época [03/10] - Loss de Treino: 0.1455, Acurácia de Treino: 0.9586\n",
            "Época [04/10] - Loss de Treino: 0.1116, Acurácia de Treino: 0.9685\n",
            "Época [05/10] - Loss de Treino: 0.0914, Acurácia de Treino: 0.9738\n",
            "Época [06/10] - Loss de Treino: 0.0754, Acurácia de Treino: 0.9782\n",
            "Época [07/10] - Loss de Treino: 0.0639, Acurácia de Treino: 0.9815\n",
            "Época [08/10] - Loss de Treino: 0.0543, Acurácia de Treino: 0.9843\n",
            "Época [09/10] - Loss de Treino: 0.0463, Acurácia de Treino: 0.9867\n",
            "Época [10/10] - Loss de Treino: 0.0399, Acurácia de Treino: 0.9887\n",
            "\n",
            "Treinamento concluído!\n"
          ]
        }
      ]
    },
    {
      "cell_type": "markdown",
      "source": [
        "### Passo 6: Análise de Erros com a Matriz de Confusão\n",
        "\n",
        "A acurácia nos dá um número geral sobre o desempenho, mas não nos diz *onde* o modelo está errando. A **Matriz de Confusão** é uma ferramenta fantástica para isso.\n",
        "\n",
        "Ela é uma tabela que nos mostra as predições para cada classe:\n",
        "-   **Eixo Y (Vertical):** Rótulo Verdadeiro (a classe real da imagem).\n",
        "-   **Eixo X (Horizontal):** Rótulo Previsto (a classe que o modelo previu).\n",
        "\n",
        "A **diagonal principal** (do canto superior esquerdo ao inferior direito) mostra as predições corretas. Qualquer número fora dessa diagonal representa um erro. Por exemplo, se na linha do \"Rótulo Verdadeiro 5\" houver um número na coluna do \"Rótulo Previsto 3\", significa que o modelo confundiu um 5 com um 3."
      ],
      "metadata": {
        "id": "SeIqEDSsGMv1"
      }
    },
    {
      "cell_type": "code",
      "source": [
        "# Precisamos obter todas as predições e rótulos do conjunto de teste\n",
        "all_preds = []\n",
        "all_labels = []\n",
        "\n",
        "model.eval()\n",
        "with torch.no_grad():\n",
        "    for images, labels in test_loader:\n",
        "        images = images.to(device)\n",
        "        labels = labels.to(device)\n",
        "\n",
        "        outputs = model(images)\n",
        "        _, predicted = torch.max(outputs.data, 1)\n",
        "\n",
        "        # Adiciona as predições e rótulos do lote às listas\n",
        "        all_preds.extend(predicted.cpu().numpy())\n",
        "        all_labels.extend(labels.cpu().numpy())\n",
        "\n",
        "# Calcular a matriz de confusão usando o scikit-learn\n",
        "cm = confusion_matrix(all_labels, all_preds)\n",
        "\n",
        "# Exibir a matriz de confusão de forma gráfica\n",
        "disp = ConfusionMatrixDisplay(confusion_matrix=cm, display_labels=np.arange(10))\n",
        "\n",
        "fig, ax = plt.subplots(figsize=(8, 8))\n",
        "disp.plot(ax=ax, cmap=plt.cm.Blues)\n",
        "plt.title(\"Matriz de Confusão\")\n",
        "plt.show()"
      ],
      "metadata": {
        "colab": {
          "base_uri": "https://localhost:8080/",
          "height": 681
        },
        "id": "sBSQmKrNGO36",
        "outputId": "aa3d14d7-6f5c-4149-a60f-97f21791284f"
      },
      "execution_count": null,
      "outputs": [
        {
          "output_type": "display_data",
          "data": {
            "text/plain": [
              "<Figure size 800x800 with 2 Axes>"
            ],
            "image/png": "[encoded data removed]"
          },
          "metadata": {}
        }
      ]
    },
    {
      "cell_type": "markdown",
      "source": [
        "## Vamos imprimir algumas imagens pra testar"
      ],
      "metadata": {
        "id": "c94n-NuVEPrq"
      }
    },
    {
      "cell_type": "code",
      "source": [
        "# Exibir algumas imagens de teste com rótulos verdadeiros e previstos\n",
        "model.eval()\n",
        "with torch.no_grad():\n",
        "    # Obter um batch aleatório de 10 imagens do conjunto de teste\n",
        "    # Para obter um batch aleatório, podemos criar um DataLoader temporário\n",
        "    # com shuffle=True e batch_size=10\n",
        "    random_test_loader = DataLoader(dataset=test_dataset, batch_size=10, shuffle=True)\n",
        "    images, labels = next(iter(random_test_loader))\n",
        "    images, labels = images.to(device), labels.to(device)\n",
        "\n",
        "    # Passar as imagens pela rede para obter previsões\n",
        "    outputs = model(images)\n",
        "    _, predicted = torch.max(outputs.data, 1)\n",
        "\n",
        "    # Visualizar algumas imagens com rótulos e previsões\n",
        "    fig, axes = plt.subplots(1, 10, figsize=(15, 2)) # Ajusta para 10 subplots\n",
        "    for i, ax in enumerate(axes):\n",
        "        ax.imshow(images[i].cpu().squeeze(), cmap=\"gray\")\n",
        "        ax.set_title(f\"Verdadeiro: {labels[i].item()}\\nPrevisto: {predicted[i].item()}\")\n",
        "        ax.axis(\"off\")\n",
        "    plt.tight_layout()\n",
        "    plt.show()"
      ],
      "metadata": {
        "colab": {
          "base_uri": "https://localhost:8080/",
          "height": 190
        },
        "id": "7JU5RU3XD8B6",
        "outputId": "c80bda69-f19c-4abc-f376-d62067b6d8a2"
      },
      "execution_count": null,
      "outputs": [
        {
          "output_type": "display_data",
          "data": {
            "text/plain": [
              "<Figure size 1500x200 with 10 Axes>"
            ],
            "image/png": "[encoded data removed]"
          },
          "metadata": {}
        }
      ]
    }
  ]
}